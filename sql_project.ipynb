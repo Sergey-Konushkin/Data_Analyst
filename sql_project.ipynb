{
 "cells": [
  {
   "cell_type": "markdown",
   "metadata": {},
   "source": [
    "# Проект по SQL"
   ]
  },
  {
   "cell_type": "markdown",
   "metadata": {},
   "source": [
    "<div style=\"border:solid orange 2px; padding: 20px\"> <h7 style=\"color:black; margin-bottom:20px\">Привет! Меня зовут Миша, я буду проводить ревью на этом спринте. \n",
    "Мои комментарии и замечания далее по тексту помечены различными цветами:\n",
    "    \n",
    "---    \n",
    "<div class=\"alert alert-block alert-danger\">\n",
    "Критическое замечание, которые следует исправить.\n",
    "</div> \n",
    "    \n",
    "---\n",
    "    \n",
    "<div class=\"alert alert-block alert-warning\">\n",
    "Замечание\\совет на будущее.\n",
    "</div>\n",
    "    \n",
    "---\n",
    "    \n",
    "<div class=\"alert alert-block alert-success\">\n",
    "Когда всё сделано правильно.\n",
    "</div>\n",
    "    \n",
    "---\n",
    "\n",
    "Для меня главное, не просто указать на ошибки, а чтобы у тебя, в первую очередь, было понимание как это делается, подсказать в каких то моментах. Поэтому если возникнут вопросы по проекту или вопросы общего характера, то не стесняйся - задавай!) Для того, чтобы мне было легче их найти, то выделяй их пожалуйста с помощью цвета, например вот так - <font color=orange>\"вопрос, который не останется незамеченным\"</font>\n",
    "    \n",
    "Удачи!\n",
    "    \n",
    "p.s.: не удаляй мои замечания, если предстоит что то доработать в проекте.</h7>"
   ]
  },
  {
   "cell_type": "markdown",
   "metadata": {},
   "source": [
    "<div class=\"alert alert-block alert-success\">\n",
    "<b>Комментарии от ревьюера v2:</b>\n",
    "\n",
    "Все замечания учтены. Успехов на дальнейших спринтах!\n",
    "</div>"
   ]
  },
  {
   "cell_type": "markdown",
   "metadata": {},
   "source": [
    "<div class=\"alert alert-block alert-danger\">\n",
    "<b>Комментарии от ревьюера:</b>\n",
    "\n",
    "Итог ревью - ты проделал хорошую работу. Почти все запросы корректные и дают правильный результат. Но есть одно задание, которое тебе предстоит доработать, чтобы я смог принять твой проект. Если возникнут вопросы по моим комментариям, пиши здесь - обязательно отвечу. Буду ждать!\n",
    "</div>"
   ]
  },
  {
   "cell_type": "markdown",
   "metadata": {},
   "source": [
    "## <span style=\"color:blue\">Декомпозиция проекта"
   ]
  },
  {
   "cell_type": "markdown",
   "metadata": {},
   "source": [
    "1. **Описание проекта, его основные цели**\n",
    "\n",
    "\n",
    "2. **Подключение к базе данных**\n",
    "\n",
    "\n",
    "3. **Открытие файлов с данными, изучение общей информации**\n",
    "\n",
    "\n",
    "4. **Анализ данных**\n",
    "    1. Посчитать, сколько книг вышло после 1 января 2000 года;\n",
    "    1. Для каждой книги посчитать количество обзоров и среднюю оценку;\n",
    "    1. Определить издательство, которое выпустило наибольшее число книг толще 50 страниц;\n",
    "    1. Определить автора с самой высокой средней оценкой книг — учитывать только книги с 50 и более оценками;\n",
    "    1. Посчитать среднее количество обзоров от пользователей, которые поставили больше 50 оценок.\n",
    " \n",
    "\n",
    "5. **Сформулировать предложение для нового продукта.**"
   ]
  },
  {
   "cell_type": "markdown",
   "metadata": {},
   "source": [
    "## Список источников:\n",
    "- [Полезные приёмы в работе с PostgreSQL](https://habr.com/ru/post/340460/) \n",
    "- [Команды PostgreSQL](https://tproger.ru/translations/useful-postgresql-commands/)"
   ]
  },
  {
   "cell_type": "markdown",
   "metadata": {},
   "source": [
    "## <span style=\"color:blue\">1. Описание проекта, его основные цели"
   ]
  },
  {
   "cell_type": "markdown",
   "metadata": {},
   "source": [
    "**Основная задача проекта:** проанализировать базу данных сервиса для чтения книг по подписке. В ней — информация о книгах, издательствах, авторах, а также пользовательские обзоры книг. После анализа данных сформулировать предложение для нового продукта."
   ]
  },
  {
   "cell_type": "markdown",
   "metadata": {},
   "source": [
    "## <span style=\"color:blue\">2. Подключение к базе данных"
   ]
  },
  {
   "cell_type": "code",
   "execution_count": 1,
   "metadata": {},
   "outputs": [],
   "source": [
    "# импортируем библиотеки\n",
    "import pandas as pd\n",
    "from sqlalchemy import create_engine\n",
    "# устанавливаем параметры\n",
    "db_config = {'user': 'praktikum_student', # имя пользователя\n",
    " 'pwd': 'Sdf4$2;d-d30pp', # пароль\n",
    " 'host': 'rc1b-wcoijxj3yxfsf3fs.mdb.yandexcloud.net',\n",
    " 'port': 6432, # порт подключения\n",
    " 'db': 'data-analyst-final-project-db'} # название базы данных\n",
    "connection_string = 'postgresql://{}:{}@{}:{}/{}'.format(db_config['user'],\n",
    " db_config['pwd'],\n",
    " db_config['host'],\n",
    " db_config['port'],\n",
    " db_config['db'])\n",
    "# сохраняем коннектор\n",
    "engine = create_engine(connection_string, connect_args={'sslmode':'require'}) "
   ]
  },
  {
   "cell_type": "markdown",
   "metadata": {},
   "source": [
    "## <span style=\"color:blue\">3. Открытие файлов с данными, изучение общей информации"
   ]
  },
  {
   "cell_type": "code",
   "execution_count": 2,
   "metadata": {},
   "outputs": [
    {
     "data": {
      "text/html": [
       "<div>\n",
       "<style scoped>\n",
       "    .dataframe tbody tr th:only-of-type {\n",
       "        vertical-align: middle;\n",
       "    }\n",
       "\n",
       "    .dataframe tbody tr th {\n",
       "        vertical-align: top;\n",
       "    }\n",
       "\n",
       "    .dataframe thead th {\n",
       "        text-align: right;\n",
       "    }\n",
       "</style>\n",
       "<table border=\"1\" class=\"dataframe\">\n",
       "  <thead>\n",
       "    <tr style=\"text-align: right;\">\n",
       "      <th></th>\n",
       "      <th>table_name</th>\n",
       "    </tr>\n",
       "  </thead>\n",
       "  <tbody>\n",
       "    <tr>\n",
       "      <td>0</td>\n",
       "      <td>orders</td>\n",
       "    </tr>\n",
       "    <tr>\n",
       "      <td>1</td>\n",
       "      <td>visits</td>\n",
       "    </tr>\n",
       "    <tr>\n",
       "      <td>2</td>\n",
       "      <td>advertisment_costs</td>\n",
       "    </tr>\n",
       "    <tr>\n",
       "      <td>3</td>\n",
       "      <td>publishers</td>\n",
       "    </tr>\n",
       "    <tr>\n",
       "      <td>4</td>\n",
       "      <td>authors</td>\n",
       "    </tr>\n",
       "    <tr>\n",
       "      <td>5</td>\n",
       "      <td>reviews</td>\n",
       "    </tr>\n",
       "    <tr>\n",
       "      <td>6</td>\n",
       "      <td>ratings</td>\n",
       "    </tr>\n",
       "    <tr>\n",
       "      <td>7</td>\n",
       "      <td>books</td>\n",
       "    </tr>\n",
       "  </tbody>\n",
       "</table>\n",
       "</div>"
      ],
      "text/plain": [
       "           table_name\n",
       "0              orders\n",
       "1              visits\n",
       "2  advertisment_costs\n",
       "3          publishers\n",
       "4             authors\n",
       "5             reviews\n",
       "6             ratings\n",
       "7               books"
      ]
     },
     "execution_count": 2,
     "metadata": {},
     "output_type": "execute_result"
    }
   ],
   "source": [
    "# Посмотрим список таблиц в базе данных\n",
    "query_table_name = \"SELECT table_name\\\n",
    "                    FROM information_schema.tables\\\n",
    "                    WHERE table_schema NOT IN ('information_schema','pg_catalog')\"  \n",
    "table_name = pd.io.sql.read_sql(query_table_name, con = engine)\n",
    "table_name\n"
   ]
  },
  {
   "cell_type": "markdown",
   "metadata": {},
   "source": [
    "Далее изучим интересующие нас таблицы"
   ]
  },
  {
   "cell_type": "code",
   "execution_count": 3,
   "metadata": {
    "scrolled": true
   },
   "outputs": [],
   "source": [
    "query_books = \"SELECT *\\\n",
    "    FROM books\"  \n",
    "books = pd.io.sql.read_sql(query_books, con = engine)\n",
    "\n",
    "query_ratings = \"SELECT *\\\n",
    "    FROM ratings\"  \n",
    "ratings = pd.io.sql.read_sql(query_ratings, con = engine)\n",
    "\n",
    "query_authors = \"SELECT *\\\n",
    "    FROM authors\"  \n",
    "authors = pd.io.sql.read_sql(query_authors, con = engine)\n",
    "\n",
    "query_reviews = \"SELECT *\\\n",
    "    FROM reviews\"  \n",
    "reviews = pd.io.sql.read_sql(query_reviews, con = engine)\n",
    "\n",
    "query_publishers = \"SELECT *\\\n",
    "    FROM publishers\"  \n",
    "publishers = pd.io.sql.read_sql(query_publishers, con = engine)"
   ]
  },
  {
   "cell_type": "code",
   "execution_count": 4,
   "metadata": {},
   "outputs": [
    {
     "name": "stdout",
     "output_type": "stream",
     "text": [
      "*********************************************\n",
      "   book_id  author_id                                              title  \\\n",
      "0        1        546                                       'Salem's Lot   \n",
      "1        2        465                 1 000 Places to See Before You Die   \n",
      "2        3        407  13 Little Blue Envelopes (Little Blue Envelope...   \n",
      "3        4         82  1491: New Revelations of the Americas Before C...   \n",
      "4        5        125                                               1776   \n",
      "\n",
      "   num_pages publication_date  publisher_id  \n",
      "0        594       2005-11-01            93  \n",
      "1        992       2003-05-22           336  \n",
      "2        322       2010-12-21           135  \n",
      "3        541       2006-10-10           309  \n",
      "4        386       2006-07-04           268  \n",
      "\n",
      "INFO\n",
      "<class 'pandas.core.frame.DataFrame'>\n",
      "RangeIndex: 1000 entries, 0 to 999\n",
      "Data columns (total 6 columns):\n",
      "book_id             1000 non-null int64\n",
      "author_id           1000 non-null int64\n",
      "title               1000 non-null object\n",
      "num_pages           1000 non-null int64\n",
      "publication_date    1000 non-null object\n",
      "publisher_id        1000 non-null int64\n",
      "dtypes: int64(4), object(2)\n",
      "memory usage: 47.0+ KB\n",
      "None\n",
      "\n",
      "КОЛИЧЕСТВО ПРОПУСКОВ В ТАБЛИЦЕ:\n",
      "book_id             0\n",
      "author_id           0\n",
      "title               0\n",
      "num_pages           0\n",
      "publication_date    0\n",
      "publisher_id        0\n",
      "dtype: int64\n",
      "\n",
      "КОЛИЧЕСТВО ДУБЛИКАТОВ В ТАБЛИЦЕ:\n",
      "0\n",
      "\n",
      "*********************************************\n",
      "   rating_id  book_id       username  rating\n",
      "0          1        1     ryanfranco       4\n",
      "1          2        1  grantpatricia       2\n",
      "2          3        1   brandtandrea       5\n",
      "3          4        2       lorichen       3\n",
      "4          5        2    mariokeller       2\n",
      "\n",
      "INFO\n",
      "<class 'pandas.core.frame.DataFrame'>\n",
      "RangeIndex: 6456 entries, 0 to 6455\n",
      "Data columns (total 4 columns):\n",
      "rating_id    6456 non-null int64\n",
      "book_id      6456 non-null int64\n",
      "username     6456 non-null object\n",
      "rating       6456 non-null int64\n",
      "dtypes: int64(3), object(1)\n",
      "memory usage: 201.9+ KB\n",
      "None\n",
      "\n",
      "КОЛИЧЕСТВО ПРОПУСКОВ В ТАБЛИЦЕ:\n",
      "rating_id    0\n",
      "book_id      0\n",
      "username     0\n",
      "rating       0\n",
      "dtype: int64\n",
      "\n",
      "КОЛИЧЕСТВО ДУБЛИКАТОВ В ТАБЛИЦЕ:\n",
      "0\n",
      "\n",
      "*********************************************\n",
      "   author_id                          author\n",
      "0          1                      A.S. Byatt\n",
      "1          2  Aesop/Laura Harris/Laura Gibbs\n",
      "2          3                 Agatha Christie\n",
      "3          4                   Alan Brennert\n",
      "4          5        Alan Moore/David   Lloyd\n",
      "\n",
      "INFO\n",
      "<class 'pandas.core.frame.DataFrame'>\n",
      "RangeIndex: 636 entries, 0 to 635\n",
      "Data columns (total 2 columns):\n",
      "author_id    636 non-null int64\n",
      "author       636 non-null object\n",
      "dtypes: int64(1), object(1)\n",
      "memory usage: 10.1+ KB\n",
      "None\n",
      "\n",
      "КОЛИЧЕСТВО ПРОПУСКОВ В ТАБЛИЦЕ:\n",
      "author_id    0\n",
      "author       0\n",
      "dtype: int64\n",
      "\n",
      "КОЛИЧЕСТВО ДУБЛИКАТОВ В ТАБЛИЦЕ:\n",
      "0\n",
      "\n",
      "*********************************************\n",
      "   review_id  book_id       username  \\\n",
      "0          1        1   brandtandrea   \n",
      "1          2        1     ryanfranco   \n",
      "2          3        2       lorichen   \n",
      "3          4        3  johnsonamanda   \n",
      "4          5        3    scotttamara   \n",
      "\n",
      "                                                text  \n",
      "0  Mention society tell send professor analysis. ...  \n",
      "1  Foot glass pretty audience hit themselves. Amo...  \n",
      "2  Listen treat keep worry. Miss husband tax but ...  \n",
      "3  Finally month interesting blue could nature cu...  \n",
      "4  Nation purpose heavy give wait song will. List...  \n",
      "\n",
      "INFO\n",
      "<class 'pandas.core.frame.DataFrame'>\n",
      "RangeIndex: 2793 entries, 0 to 2792\n",
      "Data columns (total 4 columns):\n",
      "review_id    2793 non-null int64\n",
      "book_id      2793 non-null int64\n",
      "username     2793 non-null object\n",
      "text         2793 non-null object\n",
      "dtypes: int64(2), object(2)\n",
      "memory usage: 87.4+ KB\n",
      "None\n",
      "\n",
      "КОЛИЧЕСТВО ПРОПУСКОВ В ТАБЛИЦЕ:\n",
      "review_id    0\n",
      "book_id      0\n",
      "username     0\n",
      "text         0\n",
      "dtype: int64\n",
      "\n",
      "КОЛИЧЕСТВО ДУБЛИКАТОВ В ТАБЛИЦЕ:\n",
      "0\n",
      "\n",
      "*********************************************\n",
      "   publisher_id                          publisher\n",
      "0             1                                Ace\n",
      "1             2                           Ace Book\n",
      "2             3                          Ace Books\n",
      "3             4                      Ace Hardcover\n",
      "4             5  Addison Wesley Publishing Company\n",
      "\n",
      "INFO\n",
      "<class 'pandas.core.frame.DataFrame'>\n",
      "RangeIndex: 340 entries, 0 to 339\n",
      "Data columns (total 2 columns):\n",
      "publisher_id    340 non-null int64\n",
      "publisher       340 non-null object\n",
      "dtypes: int64(1), object(1)\n",
      "memory usage: 5.4+ KB\n",
      "None\n",
      "\n",
      "КОЛИЧЕСТВО ПРОПУСКОВ В ТАБЛИЦЕ:\n",
      "publisher_id    0\n",
      "publisher       0\n",
      "dtype: int64\n",
      "\n",
      "КОЛИЧЕСТВО ДУБЛИКАТОВ В ТАБЛИЦЕ:\n",
      "0\n",
      "\n"
     ]
    }
   ],
   "source": [
    "# Создадим цыкл который открывает таблицы с данными, \n",
    "# описывает общую информацию по ним и проверяет \n",
    "# строки на наличие пропусков и дубликатов\n",
    "for data in [books,\\\n",
    "            ratings,\\\n",
    "            authors,\\\n",
    "            reviews,\n",
    "            publishers]:\n",
    "    print('*********************************************')\n",
    "    print(data.head())\n",
    "    print()\n",
    "    print('INFO')\n",
    "    print(data.info())\n",
    "    print()\n",
    "    print('КОЛИЧЕСТВО ПРОПУСКОВ В ТАБЛИЦЕ:')\n",
    "    print(data.isnull().sum())\n",
    "    print()\n",
    "    print('КОЛИЧЕСТВО ДУБЛИКАТОВ В ТАБЛИЦЕ:')\n",
    "    print(data.duplicated().sum())\n",
    "    print()"
   ]
  },
  {
   "cell_type": "markdown",
   "metadata": {},
   "source": [
    "Рассмотрев общую информацию видно, что наши данные чистые, пропусков и дубликатов нигде нет, все поля соответствуют своим типам данных."
   ]
  },
  {
   "cell_type": "markdown",
   "metadata": {},
   "source": [
    "<div class=\"alert alert-info\"> Привет Миша. Увы, но я не нашел как цыклом проверить наличие пропусков, дубликатов и проверить типы данных всех таблиц на языке SQL (1 запрос 1 таблица), а по одной проверять, слишком громоздко выйдет. </div>"
   ]
  },
  {
   "cell_type": "markdown",
   "metadata": {},
   "source": [
    "<div class=\"alert alert-block alert-warning\">\n",
    "<b>Комментарии от ревьюера v2:</b>\n",
    "\n",
    "Извини) наверное моя формулировка смутила тебя. Я не имел в виду проверки с помощью sql запросов. Надо было вывести просто несколько строк из каждой таблицы и их размерности в идеале)\n",
    "</div>"
   ]
  },
  {
   "cell_type": "markdown",
   "metadata": {},
   "source": [
    "<div class=\"alert alert-block alert-danger\">\n",
    "<b>Комментарии от ревьюера:</b>\n",
    "\n",
    "А как же проверить выгруженные данные? Посмотреть их содержимое? Добавь этот пункт пожалуйста\n",
    "</div>"
   ]
  },
  {
   "cell_type": "markdown",
   "metadata": {},
   "source": [
    "## <span style=\"color:blue\">4. Анализ данных"
   ]
  },
  {
   "cell_type": "markdown",
   "metadata": {},
   "source": [
    "### Посчитаем, сколько книг вышло после 1 января 2000 года;"
   ]
  },
  {
   "cell_type": "code",
   "execution_count": 5,
   "metadata": {},
   "outputs": [
    {
     "data": {
      "text/html": [
       "<div>\n",
       "<style scoped>\n",
       "    .dataframe tbody tr th:only-of-type {\n",
       "        vertical-align: middle;\n",
       "    }\n",
       "\n",
       "    .dataframe tbody tr th {\n",
       "        vertical-align: top;\n",
       "    }\n",
       "\n",
       "    .dataframe thead th {\n",
       "        text-align: right;\n",
       "    }\n",
       "</style>\n",
       "<table border=\"1\" class=\"dataframe\">\n",
       "  <thead>\n",
       "    <tr style=\"text-align: right;\">\n",
       "      <th></th>\n",
       "      <th>book_cnt</th>\n",
       "    </tr>\n",
       "  </thead>\n",
       "  <tbody>\n",
       "    <tr>\n",
       "      <td>0</td>\n",
       "      <td>819</td>\n",
       "    </tr>\n",
       "  </tbody>\n",
       "</table>\n",
       "</div>"
      ],
      "text/plain": [
       "   book_cnt\n",
       "0       819"
      ]
     },
     "execution_count": 5,
     "metadata": {},
     "output_type": "execute_result"
    }
   ],
   "source": [
    "query_count_books = \"SELECT COUNT(book_id) AS book_cnt\\\n",
    "    FROM books\\\n",
    "    WHERE publication_date > '2000-01-01'\"  \n",
    "count_books = pd.io.sql.read_sql(query_count_books, con = engine)\n",
    "count_books"
   ]
  },
  {
   "cell_type": "markdown",
   "metadata": {},
   "source": [
    "После первого января 2000 года вышло 819 книг"
   ]
  },
  {
   "cell_type": "markdown",
   "metadata": {},
   "source": [
    "<div class=\"alert alert-block alert-success\">\n",
    "<b>Комментарии от ревьюера:</b>\n",
    "\n",
    "Всё верно. Это правильный ответ\n",
    "</div>"
   ]
  },
  {
   "cell_type": "markdown",
   "metadata": {},
   "source": [
    "### Для каждой книги посчитаем среднюю оценку и количество обзоров"
   ]
  },
  {
   "cell_type": "code",
   "execution_count": 6,
   "metadata": {},
   "outputs": [
    {
     "data": {
      "text/html": [
       "<div>\n",
       "<style scoped>\n",
       "    .dataframe tbody tr th:only-of-type {\n",
       "        vertical-align: middle;\n",
       "    }\n",
       "\n",
       "    .dataframe tbody tr th {\n",
       "        vertical-align: top;\n",
       "    }\n",
       "\n",
       "    .dataframe thead th {\n",
       "        text-align: right;\n",
       "    }\n",
       "</style>\n",
       "<table border=\"1\" class=\"dataframe\">\n",
       "  <thead>\n",
       "    <tr style=\"text-align: right;\">\n",
       "      <th></th>\n",
       "      <th>title</th>\n",
       "      <th>book_id</th>\n",
       "      <th>rating_mean</th>\n",
       "      <th>review_id_cnt</th>\n",
       "    </tr>\n",
       "  </thead>\n",
       "  <tbody>\n",
       "    <tr>\n",
       "      <td>0</td>\n",
       "      <td>Pop Goes the Weasel (Alex Cross  #5)</td>\n",
       "      <td>518</td>\n",
       "      <td>5.00</td>\n",
       "      <td>2.0</td>\n",
       "    </tr>\n",
       "    <tr>\n",
       "      <td>1</td>\n",
       "      <td>The Ghost Map: The Story of London's Most Terr...</td>\n",
       "      <td>732</td>\n",
       "      <td>5.00</td>\n",
       "      <td>2.0</td>\n",
       "    </tr>\n",
       "    <tr>\n",
       "      <td>2</td>\n",
       "      <td>In the Hand of the Goddess (Song of the Liones...</td>\n",
       "      <td>347</td>\n",
       "      <td>5.00</td>\n",
       "      <td>2.0</td>\n",
       "    </tr>\n",
       "    <tr>\n",
       "      <td>3</td>\n",
       "      <td>Tai-Pan (Asian Saga  #2)</td>\n",
       "      <td>610</td>\n",
       "      <td>5.00</td>\n",
       "      <td>2.0</td>\n",
       "    </tr>\n",
       "    <tr>\n",
       "      <td>4</td>\n",
       "      <td>How to Be a Domestic Goddess: Baking and the A...</td>\n",
       "      <td>330</td>\n",
       "      <td>5.00</td>\n",
       "      <td>1.0</td>\n",
       "    </tr>\n",
       "    <tr>\n",
       "      <td>...</td>\n",
       "      <td>...</td>\n",
       "      <td>...</td>\n",
       "      <td>...</td>\n",
       "      <td>...</td>\n",
       "    </tr>\n",
       "    <tr>\n",
       "      <td>995</td>\n",
       "      <td>The World Is Flat: A Brief History of the Twen...</td>\n",
       "      <td>915</td>\n",
       "      <td>2.25</td>\n",
       "      <td>3.0</td>\n",
       "    </tr>\n",
       "    <tr>\n",
       "      <td>996</td>\n",
       "      <td>Junky</td>\n",
       "      <td>371</td>\n",
       "      <td>2.00</td>\n",
       "      <td>2.0</td>\n",
       "    </tr>\n",
       "    <tr>\n",
       "      <td>997</td>\n",
       "      <td>His Excellency: George Washington</td>\n",
       "      <td>316</td>\n",
       "      <td>2.00</td>\n",
       "      <td>2.0</td>\n",
       "    </tr>\n",
       "    <tr>\n",
       "      <td>998</td>\n",
       "      <td>Drowning Ruth</td>\n",
       "      <td>202</td>\n",
       "      <td>2.00</td>\n",
       "      <td>3.0</td>\n",
       "    </tr>\n",
       "    <tr>\n",
       "      <td>999</td>\n",
       "      <td>Harvesting the Heart</td>\n",
       "      <td>303</td>\n",
       "      <td>1.50</td>\n",
       "      <td>2.0</td>\n",
       "    </tr>\n",
       "  </tbody>\n",
       "</table>\n",
       "<p>1000 rows × 4 columns</p>\n",
       "</div>"
      ],
      "text/plain": [
       "                                                 title  book_id  rating_mean  \\\n",
       "0                 Pop Goes the Weasel (Alex Cross  #5)      518         5.00   \n",
       "1    The Ghost Map: The Story of London's Most Terr...      732         5.00   \n",
       "2    In the Hand of the Goddess (Song of the Liones...      347         5.00   \n",
       "3                             Tai-Pan (Asian Saga  #2)      610         5.00   \n",
       "4    How to Be a Domestic Goddess: Baking and the A...      330         5.00   \n",
       "..                                                 ...      ...          ...   \n",
       "995  The World Is Flat: A Brief History of the Twen...      915         2.25   \n",
       "996                                              Junky      371         2.00   \n",
       "997                  His Excellency: George Washington      316         2.00   \n",
       "998                                      Drowning Ruth      202         2.00   \n",
       "999                               Harvesting the Heart      303         1.50   \n",
       "\n",
       "     review_id_cnt  \n",
       "0              2.0  \n",
       "1              2.0  \n",
       "2              2.0  \n",
       "3              2.0  \n",
       "4              1.0  \n",
       "..             ...  \n",
       "995            3.0  \n",
       "996            2.0  \n",
       "997            2.0  \n",
       "998            3.0  \n",
       "999            2.0  \n",
       "\n",
       "[1000 rows x 4 columns]"
      ]
     },
     "execution_count": 6,
     "metadata": {},
     "output_type": "execute_result"
    }
   ],
   "source": [
    "# Посчитаем среднюю оценку для каждой книги и количество обзоров\n",
    "query_ratings_reviews = (\n",
    "    \"SELECT books.title,\\\n",
    "            SUBQ_ratings_reviews.book_id,\\\n",
    "            SUBQ_ratings_reviews.rating_mean,\\\n",
    "            SUBQ_ratings_reviews.review_id_cnt\\\n",
    "     FROM (SELECT SUBQ_ratings.book_id, rating_mean, review_id_cnt\\\n",
    "           FROM (SELECT book_id, AVG(rating) AS rating_mean\\\n",
    "                 FROM ratings\\\n",
    "                 GROUP BY book_id) AS SUBQ_ratings\\\n",
    "           LEFT JOIN (SELECT book_id, COUNT(review_id) AS review_id_cnt\\\n",
    "                     FROM reviews\\\n",
    "                     GROUP BY book_id) AS SUBQ_reviews\\\n",
    "           ON SUBQ_ratings.book_id = SUBQ_reviews.book_id) AS SUBQ_ratings_reviews\\\n",
    "     LEFT JOIN books ON SUBQ_ratings_reviews.book_id = books.book_id\\\n",
    "     ORDER BY rating_mean DESC\"\n",
    ")  \n",
    "ratings_reviews = pd.io.sql.read_sql(query_ratings_reviews, con = engine)\n",
    "ratings_reviews"
   ]
  },
  {
   "cell_type": "raw",
   "metadata": {},
   "source": [
    "Определили список наиболее популярных изданий."
   ]
  },
  {
   "cell_type": "markdown",
   "metadata": {},
   "source": [
    "<div class=\"alert alert-block alert-success\">\n",
    "<b>Комментарии от ревьюера v2:</b>\n",
    "\n",
    "Отлично. Запрос верный!)\n",
    "</div>"
   ]
  },
  {
   "cell_type": "markdown",
   "metadata": {},
   "source": [
    "<div class=\"alert alert-block alert-danger\">\n",
    "<b>Комментарии от ревьюера:</b>\n",
    "\n",
    "Отлично. Ты рассчитал средний рейтинг и количество обзоров для каждой книги. Но суть задания заключается, что всё это должно выводиться одним запросов одной таблицей\n",
    "</div>"
   ]
  },
  {
   "cell_type": "markdown",
   "metadata": {},
   "source": [
    "### Определим издательства, которые выпустили наибольшее число книг толще 50 страниц"
   ]
  },
  {
   "cell_type": "code",
   "execution_count": 7,
   "metadata": {},
   "outputs": [
    {
     "data": {
      "text/html": [
       "<div>\n",
       "<style scoped>\n",
       "    .dataframe tbody tr th:only-of-type {\n",
       "        vertical-align: middle;\n",
       "    }\n",
       "\n",
       "    .dataframe tbody tr th {\n",
       "        vertical-align: top;\n",
       "    }\n",
       "\n",
       "    .dataframe thead th {\n",
       "        text-align: right;\n",
       "    }\n",
       "</style>\n",
       "<table border=\"1\" class=\"dataframe\">\n",
       "  <thead>\n",
       "    <tr style=\"text-align: right;\">\n",
       "      <th></th>\n",
       "      <th>publisher</th>\n",
       "      <th>publisher_id</th>\n",
       "      <th>book_cnt</th>\n",
       "    </tr>\n",
       "  </thead>\n",
       "  <tbody>\n",
       "    <tr>\n",
       "      <td>0</td>\n",
       "      <td>Penguin Books</td>\n",
       "      <td>212</td>\n",
       "      <td>42</td>\n",
       "    </tr>\n",
       "    <tr>\n",
       "      <td>1</td>\n",
       "      <td>Vintage</td>\n",
       "      <td>309</td>\n",
       "      <td>31</td>\n",
       "    </tr>\n",
       "    <tr>\n",
       "      <td>2</td>\n",
       "      <td>Grand Central Publishing</td>\n",
       "      <td>116</td>\n",
       "      <td>25</td>\n",
       "    </tr>\n",
       "    <tr>\n",
       "      <td>3</td>\n",
       "      <td>Penguin Classics</td>\n",
       "      <td>217</td>\n",
       "      <td>24</td>\n",
       "    </tr>\n",
       "    <tr>\n",
       "      <td>4</td>\n",
       "      <td>Bantam</td>\n",
       "      <td>35</td>\n",
       "      <td>19</td>\n",
       "    </tr>\n",
       "  </tbody>\n",
       "</table>\n",
       "</div>"
      ],
      "text/plain": [
       "                  publisher  publisher_id  book_cnt\n",
       "0             Penguin Books           212        42\n",
       "1                   Vintage           309        31\n",
       "2  Grand Central Publishing           116        25\n",
       "3          Penguin Classics           217        24\n",
       "4                    Bantam            35        19"
      ]
     },
     "execution_count": 7,
     "metadata": {},
     "output_type": "execute_result"
    }
   ],
   "source": [
    "query_publisher_top = \"SELECT publishers.publisher, publishers.publisher_id, book_cnt\\\n",
    "    FROM publishers\\\n",
    "    LEFT JOIN (SELECT books.publisher_id, COUNT(books.book_id) AS book_cnt\\\n",
    "               FROM books\\\n",
    "               WHERE num_pages > 50\\\n",
    "               GROUP BY publisher_id) AS SUBQ_num_pages_50\\\n",
    "    ON publishers.publisher_id = SUBQ_num_pages_50.publisher_id\\\n",
    "    WHERE book_cnt IS NOT NULL\\\n",
    "    ORDER BY book_cnt DESC\"\n",
    "publisher_id_top = pd.io.sql.read_sql(query_publisher_top, con = engine)\n",
    "publisher_id_top.head()"
   ]
  },
  {
   "cell_type": "markdown",
   "metadata": {},
   "source": [
    "Определили 5 издательств, которые выпустили наибольшее количество книг толще 50 страниц."
   ]
  },
  {
   "cell_type": "markdown",
   "metadata": {},
   "source": [
    "<div class=\"alert alert-block alert-warning\">\n",
    "<b>Комментарии от ревьюера:</b>\n",
    "\n",
    "Согласен с результатом. Действительно данное издательство (было бы неплохо вывести имя издательства) является лидером по выпущенным книгам\n",
    "</div>"
   ]
  },
  {
   "cell_type": "markdown",
   "metadata": {},
   "source": [
    "### Определим автора с самой высокой средней оценкой книг (учитывая только книги с 50 и более оценками)"
   ]
  },
  {
   "cell_type": "code",
   "execution_count": 8,
   "metadata": {},
   "outputs": [
    {
     "data": {
      "text/html": [
       "<div>\n",
       "<style scoped>\n",
       "    .dataframe tbody tr th:only-of-type {\n",
       "        vertical-align: middle;\n",
       "    }\n",
       "\n",
       "    .dataframe tbody tr th {\n",
       "        vertical-align: top;\n",
       "    }\n",
       "\n",
       "    .dataframe thead th {\n",
       "        text-align: right;\n",
       "    }\n",
       "</style>\n",
       "<table border=\"1\" class=\"dataframe\">\n",
       "  <thead>\n",
       "    <tr style=\"text-align: right;\">\n",
       "      <th></th>\n",
       "      <th>author</th>\n",
       "      <th>author_id</th>\n",
       "      <th>rating_mean</th>\n",
       "    </tr>\n",
       "  </thead>\n",
       "  <tbody>\n",
       "    <tr>\n",
       "      <td>0</td>\n",
       "      <td>J.K. Rowling/Mary GrandPré</td>\n",
       "      <td>236</td>\n",
       "      <td>4.283844</td>\n",
       "    </tr>\n",
       "    <tr>\n",
       "      <td>1</td>\n",
       "      <td>Markus Zusak/Cao Xuân Việt Khương</td>\n",
       "      <td>402</td>\n",
       "      <td>4.264151</td>\n",
       "    </tr>\n",
       "    <tr>\n",
       "      <td>2</td>\n",
       "      <td>J.R.R. Tolkien</td>\n",
       "      <td>240</td>\n",
       "      <td>4.258446</td>\n",
       "    </tr>\n",
       "    <tr>\n",
       "      <td>3</td>\n",
       "      <td>Louisa May Alcott</td>\n",
       "      <td>376</td>\n",
       "      <td>4.192308</td>\n",
       "    </tr>\n",
       "    <tr>\n",
       "      <td>4</td>\n",
       "      <td>Rick Riordan</td>\n",
       "      <td>498</td>\n",
       "      <td>4.080645</td>\n",
       "    </tr>\n",
       "    <tr>\n",
       "      <td>5</td>\n",
       "      <td>William Golding</td>\n",
       "      <td>621</td>\n",
       "      <td>3.901408</td>\n",
       "    </tr>\n",
       "    <tr>\n",
       "      <td>6</td>\n",
       "      <td>J.D. Salinger</td>\n",
       "      <td>235</td>\n",
       "      <td>3.825581</td>\n",
       "    </tr>\n",
       "    <tr>\n",
       "      <td>7</td>\n",
       "      <td>Paulo Coelho/Alan R. Clarke/Özdemir İnce</td>\n",
       "      <td>469</td>\n",
       "      <td>3.789474</td>\n",
       "    </tr>\n",
       "    <tr>\n",
       "      <td>8</td>\n",
       "      <td>William Shakespeare/Paul Werstine/Barbara A. M...</td>\n",
       "      <td>630</td>\n",
       "      <td>3.787879</td>\n",
       "    </tr>\n",
       "    <tr>\n",
       "      <td>9</td>\n",
       "      <td>Dan Brown</td>\n",
       "      <td>106</td>\n",
       "      <td>3.754540</td>\n",
       "    </tr>\n",
       "    <tr>\n",
       "      <td>10</td>\n",
       "      <td>Lois Lowry</td>\n",
       "      <td>372</td>\n",
       "      <td>3.750000</td>\n",
       "    </tr>\n",
       "    <tr>\n",
       "      <td>11</td>\n",
       "      <td>George Orwell/Boris Grabnar/Peter Škerl</td>\n",
       "      <td>195</td>\n",
       "      <td>3.729730</td>\n",
       "    </tr>\n",
       "    <tr>\n",
       "      <td>12</td>\n",
       "      <td>Stephenie Meyer</td>\n",
       "      <td>554</td>\n",
       "      <td>3.662500</td>\n",
       "    </tr>\n",
       "    <tr>\n",
       "      <td>13</td>\n",
       "      <td>John Steinbeck</td>\n",
       "      <td>311</td>\n",
       "      <td>3.622951</td>\n",
       "    </tr>\n",
       "  </tbody>\n",
       "</table>\n",
       "</div>"
      ],
      "text/plain": [
       "                                               author  author_id  rating_mean\n",
       "0                          J.K. Rowling/Mary GrandPré        236     4.283844\n",
       "1                   Markus Zusak/Cao Xuân Việt Khương        402     4.264151\n",
       "2                                      J.R.R. Tolkien        240     4.258446\n",
       "3                                   Louisa May Alcott        376     4.192308\n",
       "4                                        Rick Riordan        498     4.080645\n",
       "5                                     William Golding        621     3.901408\n",
       "6                                       J.D. Salinger        235     3.825581\n",
       "7            Paulo Coelho/Alan R. Clarke/Özdemir İnce        469     3.789474\n",
       "8   William Shakespeare/Paul Werstine/Barbara A. M...        630     3.787879\n",
       "9                                           Dan Brown        106     3.754540\n",
       "10                                         Lois Lowry        372     3.750000\n",
       "11            George Orwell/Boris Grabnar/Peter Škerl        195     3.729730\n",
       "12                                    Stephenie Meyer        554     3.662500\n",
       "13                                     John Steinbeck        311     3.622951"
      ]
     },
     "execution_count": 8,
     "metadata": {},
     "output_type": "execute_result"
    }
   ],
   "source": [
    "query_author_top = \"SELECT authors.author, authors.author_id, rating_mean\\\n",
    "    FROM (SELECT author_id, AVG(rating_mean) AS rating_mean\\\n",
    "          FROM books\\\n",
    "          LEFT JOIN (SELECT book_id, COUNT(rating_id) AS rating_cnt, AVG(rating) AS rating_mean\\\n",
    "                     FROM ratings\\\n",
    "                     GROUP BY book_id\\\n",
    "                     HAVING COUNT(rating_id) > 50)\\\n",
    "          AS subquery ON books.book_id = subquery.book_id\\\n",
    "          WHERE rating_mean IS NOT NULL\\\n",
    "          GROUP BY author_id) AS SUB_author_top\\\n",
    "    LEFT JOIN authors ON authors.author_id = SUB_author_top.author_id\\\n",
    "    ORDER BY rating_mean DESC\"\n",
    "author_top = pd.io.sql.read_sql(query_author_top, con = engine)\n",
    "author_top"
   ]
  },
  {
   "cell_type": "markdown",
   "metadata": {},
   "source": [
    "Есть список авторов с самой высокой средней оценкой книг. "
   ]
  },
  {
   "cell_type": "markdown",
   "metadata": {},
   "source": [
    "<div class=\"alert alert-block alert-warning\">\n",
    "<b>Комментарии от ревьюера:</b>\n",
    "\n",
    "И здесь ты не ошибся. Ты верно отфильтровал книги и рассчитал среднйи рейтинг авторов. Но можно было вывести для наглядности имена авторов\n",
    "</div>"
   ]
  },
  {
   "cell_type": "markdown",
   "metadata": {},
   "source": [
    "### Посчитаем среднее количество обзоров от пользователей, которые поставили больше 50 оценок"
   ]
  },
  {
   "cell_type": "markdown",
   "metadata": {},
   "source": [
    "Нужно посчитать количество оценок у пользователей (не меньше 50) и по ним уже посчитать среднее количество обзоров."
   ]
  },
  {
   "cell_type": "code",
   "execution_count": 9,
   "metadata": {},
   "outputs": [
    {
     "data": {
      "text/html": [
       "<div>\n",
       "<style scoped>\n",
       "    .dataframe tbody tr th:only-of-type {\n",
       "        vertical-align: middle;\n",
       "    }\n",
       "\n",
       "    .dataframe tbody tr th {\n",
       "        vertical-align: top;\n",
       "    }\n",
       "\n",
       "    .dataframe thead th {\n",
       "        text-align: right;\n",
       "    }\n",
       "</style>\n",
       "<table border=\"1\" class=\"dataframe\">\n",
       "  <thead>\n",
       "    <tr style=\"text-align: right;\">\n",
       "      <th></th>\n",
       "      <th>reviews_count_mean</th>\n",
       "    </tr>\n",
       "  </thead>\n",
       "  <tbody>\n",
       "    <tr>\n",
       "      <td>0</td>\n",
       "      <td>24.333333</td>\n",
       "    </tr>\n",
       "  </tbody>\n",
       "</table>\n",
       "</div>"
      ],
      "text/plain": [
       "   reviews_count_mean\n",
       "0           24.333333"
      ]
     },
     "execution_count": 9,
     "metadata": {},
     "output_type": "execute_result"
    }
   ],
   "source": [
    "query_reviews_count_mean = \"SELECT AVG(SUBQ.count) AS reviews_count_mean\\\n",
    "                  FROM (SELECT username, COUNT(review_id)\\\n",
    "                        FROM (SELECT reviews.username, reviews.review_id\\\n",
    "                              FROM reviews\\\n",
    "                              LEFT JOIN (SELECT username, COUNT(rating_id) rating_cnt\\\n",
    "                                         FROM ratings\\\n",
    "                                         GROUP BY username\\\n",
    "                                         HAVING COUNT(rating_id) > 50)\\\n",
    "                              AS subquery_1 ON reviews.username = subquery_1.username\\\n",
    "                              WHERE rating_cnt IS NOT NULL) AS SUBQ_1\\\n",
    "                       GROUP BY SUBQ_1.username) AS SUBQ\"\n",
    "reviews_count_mean = pd.io.sql.read_sql(query_reviews_count_mean, con = engine)\n",
    "reviews_count_mean"
   ]
  },
  {
   "cell_type": "markdown",
   "metadata": {},
   "source": [
    "Среднее количество обзоров от пользователей 24."
   ]
  },
  {
   "cell_type": "markdown",
   "metadata": {},
   "source": [
    "<div class=\"alert alert-block alert-success\">\n",
    "<b>Комментарии от ревьюера:</b>\n",
    "\n",
    "И это .. правильный ответ! Ты верно отфильтровал пользователей и рассчитал их показатели.\n",
    "\n",
    "В итоге, 4\\5 с первой попытки - это достойный результат)\n",
    "</div>"
   ]
  },
  {
   "cell_type": "markdown",
   "metadata": {},
   "source": [
    "## <span style=\"color:blue\">5. Предложение для нового продукта"
   ]
  },
  {
   "cell_type": "markdown",
   "metadata": {},
   "source": [
    "Имея в библиотеке 819 книг выпущенных после 1 января 2000 года, нужно определить новые закупки, новые направления по авторам, учитывать оценки читателей. На старте лучше поодержать закупки уже популярных авторов, к которым имеется высокий интерес. Так же не маловажно обратить внимание на активных пользователей у которых большое количество обзоров и высокая активность по оценкам произведений. На эту группу людей стоит сконцентрировать свое внимание, увидеть их предпочтения, желания, негатив.  "
   ]
  },
  {
   "cell_type": "markdown",
   "metadata": {},
   "source": [
    "<div class=\"alert alert-block alert-success\">\n",
    "<b>Комментарии от ревьюера:</b>\n",
    "\n",
    "Здорово, что ты постарался сформулировать предложение для бизнеса. Это очень хорошее качество для аналитика -  не просто рассчитывать и анализировать данные, но и давать рекомендации. Развивай его и дальше)\n",
    "</div>"
   ]
  },
  {
   "cell_type": "code",
   "execution_count": null,
   "metadata": {},
   "outputs": [],
   "source": []
  }
 ],
 "metadata": {
  "kernelspec": {
   "display_name": "Python 3",
   "language": "python",
   "name": "python3"
  },
  "language_info": {
   "codemirror_mode": {
    "name": "ipython",
    "version": 3
   },
   "file_extension": ".py",
   "mimetype": "text/x-python",
   "name": "python",
   "nbconvert_exporter": "python",
   "pygments_lexer": "ipython3",
   "version": "3.7.9"
  },
  "toc": {
   "base_numbering": 1,
   "nav_menu": {},
   "number_sections": true,
   "sideBar": true,
   "skip_h1_title": false,
   "title_cell": "Table of Contents",
   "title_sidebar": "Contents",
   "toc_cell": false,
   "toc_position": {},
   "toc_section_display": true,
   "toc_window_display": false
  }
 },
 "nbformat": 4,
 "nbformat_minor": 2
}
